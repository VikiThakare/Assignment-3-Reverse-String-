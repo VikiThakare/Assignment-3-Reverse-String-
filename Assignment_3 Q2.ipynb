{
 "cells": [
  {
   "cell_type": "markdown",
   "id": "318db5eb",
   "metadata": {},
   "source": [
    "# Write a Python program to reverse a string."
   ]
  },
  {
   "cell_type": "code",
   "execution_count": 5,
   "id": "b5053aef",
   "metadata": {},
   "outputs": [
    {
     "name": "stdout",
     "output_type": "stream",
     "text": [
      "Enter a string: 1234abcd\n",
      "Reverse of a string: dcba4321\n"
     ]
    }
   ],
   "source": [
    "def reverse_string(string):\n",
    "    reverse = \"\"\n",
    "    for i in range(len(string)-1, -1, -1):\n",
    "        reverse = reverse + string[i]\n",
    "    return reverse\n",
    "\n",
    "a = input('Enter a string: ')\n",
    "rev_str = reverse_string(a)\n",
    "print('Reverse of a string:', rev_str)"
   ]
  },
  {
   "cell_type": "code",
   "execution_count": null,
   "id": "bb63fb5e",
   "metadata": {},
   "outputs": [],
   "source": []
  }
 ],
 "metadata": {
  "kernelspec": {
   "display_name": "Python 3 (ipykernel)",
   "language": "python",
   "name": "python3"
  },
  "language_info": {
   "codemirror_mode": {
    "name": "ipython",
    "version": 3
   },
   "file_extension": ".py",
   "mimetype": "text/x-python",
   "name": "python",
   "nbconvert_exporter": "python",
   "pygments_lexer": "ipython3",
   "version": "3.9.12"
  }
 },
 "nbformat": 4,
 "nbformat_minor": 5
}
